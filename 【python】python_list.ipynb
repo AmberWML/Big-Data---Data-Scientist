{
 "cells": [
  {
   "cell_type": "code",
   "execution_count": 1,
   "metadata": {},
   "outputs": [],
   "source": [
    "\n",
    "list1=['两点水','twowter','liangdianshui',123]\n"
   ]
  },
  {
   "cell_type": "code",
   "execution_count": 2,
   "metadata": {},
   "outputs": [
    {
     "name": "stdout",
     "output_type": "stream",
     "text": [
      "['两点水', 'twowter']\n",
      "['两点水', 'twowter', 'liangdianshui', 123]\n",
      "['2点水', 'twowter', 'liangdianshui', 123]\n"
     ]
    }
   ],
   "source": [
    "print(list1)\n",
    "print(list1[1])\n",
    "\n",
    "#左闭右开\n",
    "print(list1[0:2])\n",
    "\n",
    "print(list1[:])\n"
   ]
  },
  {
   "cell_type": "code",
   "execution_count": 3,
   "metadata": {},
   "outputs": [
    {
     "name": "stdout",
     "output_type": "stream",
     "text": [
      "['2点水', 'twowter', 'liangdianshui', 123]\n"
     ]
    }
   ],
   "source": [
    "#修改一个值\n",
    "list1[0] = \"2点水\"\n",
    "print(list1)"
   ]
  },
  {
   "cell_type": "code",
   "execution_count": 12,
   "metadata": {},
   "outputs": [
    {
     "data": {
      "text/plain": [
       "['两点水', 'twowter', 'liangdianshui']"
      ]
     },
     "execution_count": 12,
     "metadata": {},
     "output_type": "execute_result"
    }
   ],
   "source": [
    "#删除末尾的元素\n",
    "list1.pop()\n",
    "list1"
   ]
  },
  {
   "cell_type": "code",
   "execution_count": 19,
   "metadata": {},
   "outputs": [
    {
     "data": {
      "text/plain": [
       "['两点水', 'twowter', 123, 1234]"
      ]
     },
     "execution_count": 19,
     "metadata": {},
     "output_type": "execute_result"
    }
   ],
   "source": [
    "# append\n",
    "list1.append(1234)\n",
    "list1"
   ]
  },
  {
   "cell_type": "code",
   "execution_count": 2,
   "metadata": {},
   "outputs": [
    {
     "data": {
      "text/plain": [
       "['两点水', 'twowter', 'liangdianshui']"
      ]
     },
     "execution_count": 2,
     "metadata": {},
     "output_type": "execute_result"
    }
   ],
   "source": [
    "list1=['两点水','twowter','liangdianshui',123]\n",
    "#list.pop(1)  相当于  del list1[1]\n",
    "#list.pop(3)  相当于  del list1[3]\n",
    "list1.pop(3)\n",
    "list1"
   ]
  },
  {
   "cell_type": "code",
   "execution_count": 3,
   "metadata": {},
   "outputs": [
    {
     "data": {
      "text/plain": [
       "['两点水', 'twowter', 'liangdianshui']"
      ]
     },
     "execution_count": 3,
     "metadata": {},
     "output_type": "execute_result"
    }
   ],
   "source": [
    "#删除第四个位置\n",
    "\n",
    "list1=['两点水','twowter','liangdianshui',123]\n",
    "del list1[3]\n",
    "list1"
   ]
  },
  {
   "cell_type": "code",
   "execution_count": null,
   "metadata": {},
   "outputs": [],
   "source": [
    "#删除第一个位置\n",
    "del list1[0]\n",
    "list1"
   ]
  },
  {
   "cell_type": "code",
   "execution_count": 5,
   "metadata": {},
   "outputs": [
    {
     "name": "stdout",
     "output_type": "stream",
     "text": [
      "[1, 2, 3, 4, 5, 6]\n"
     ]
    },
    {
     "data": {
      "text/plain": [
       "array([5, 7, 9])"
      ]
     },
     "execution_count": 5,
     "metadata": {},
     "output_type": "execute_result"
    }
   ],
   "source": [
    "# array 相加 vs list 相加\n",
    "import numpy as np\n",
    "\n",
    "print([1, 2, 3] + [4, 5, 6])\n",
    "\n",
    "np.array([1, 2, 3]) +  np.array([4, 5, 6])\n"
   ]
  },
  {
   "cell_type": "code",
   "execution_count": null,
   "metadata": {},
   "outputs": [],
   "source": []
  }
 ],
 "metadata": {
  "kernelspec": {
   "display_name": "Python 3",
   "language": "python",
   "name": "python3"
  },
  "language_info": {
   "codemirror_mode": {
    "name": "ipython",
    "version": 3
   },
   "file_extension": ".py",
   "mimetype": "text/x-python",
   "name": "python",
   "nbconvert_exporter": "python",
   "pygments_lexer": "ipython3",
   "version": "3.8.5"
  },
  "metadata": {
   "interpreter": {
    "hash": "fb27f8f547e794901ed274cc4dc95b4c9db9fd22819d966e650dd1e349c3055b"
   }
  }
 },
 "nbformat": 4,
 "nbformat_minor": 2
}
